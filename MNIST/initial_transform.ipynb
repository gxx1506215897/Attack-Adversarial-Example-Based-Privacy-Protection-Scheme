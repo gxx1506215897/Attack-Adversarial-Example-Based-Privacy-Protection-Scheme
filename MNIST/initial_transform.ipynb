{
 "cells": [
  {
   "cell_type": "markdown",
   "id": "60ca704b-7d58-4020-a7a7-82e6d23d2873",
   "metadata": {},
   "source": [
    "#### Mainly use the rotation of the image."
   ]
  },
  {
   "cell_type": "markdown",
   "id": "e717adc1-6817-4c8c-be61-2f7c8ee50684",
   "metadata": {},
   "source": [
    "##### Defining the rotation function."
   ]
  },
  {
   "cell_type": "code",
   "execution_count": 1,
   "id": "40cba4f7-0b45-4d5e-afe2-71b18fd8b413",
   "metadata": {},
   "outputs": [],
   "source": [
    "import numpy as np\n",
    "from PIL import Image\n",
    "\n",
    "def rotate_data(a,x_test):\n",
    "    # parameter a: angle to be rotated;\n",
    "    # parameter x_test: data to be rotated;\n",
    "    #\n",
    "    x_test_rotate = np.zeros((500,28,28))\n",
    "    for i in range(500):\n",
    "        pd = x_test[i].reshape(28,28)\n",
    "        pd = Image.fromarray(pd)\n",
    "        pd = pd.rotate(a)\n",
    "        pd = np.array(pd)\n",
    "        x_test_rotate[i,:,:] = pd\n",
    "    x_test_rotate = x_test_rotate.reshape(500,28,28,1)\n",
    "    return x_test_rotate"
   ]
  },
  {
   "cell_type": "markdown",
   "id": "d284c72a-49e4-41fd-94c0-b1b0b875bda7",
   "metadata": {},
   "source": [
    "##### Loading the adversarial example and the attack model."
   ]
  },
  {
   "cell_type": "code",
   "execution_count": 3,
   "id": "786e0de5-e64b-44e8-82bd-f1b4556156fa",
   "metadata": {},
   "outputs": [
    {
     "ename": "FileNotFoundError",
     "evalue": "[Errno 2] No such file or directory: './adv_data/x_adv/x_test_adv_cw2.npy'",
     "output_type": "error",
     "traceback": [
      "\u001b[1;31m---------------------------------------------------------------------------\u001b[0m",
      "\u001b[1;31mFileNotFoundError\u001b[0m                         Traceback (most recent call last)",
      "\u001b[1;32m<ipython-input-3-6c91cf15c1ab>\u001b[0m in \u001b[0;36m<module>\u001b[1;34m\u001b[0m\n\u001b[0;32m      6\u001b[0m \u001b[0mx_test\u001b[0m\u001b[1;33m,\u001b[0m \u001b[0my_test\u001b[0m \u001b[1;33m=\u001b[0m \u001b[0mx_test\u001b[0m\u001b[1;33m[\u001b[0m\u001b[1;33m:\u001b[0m\u001b[1;36m500\u001b[0m\u001b[1;33m]\u001b[0m\u001b[1;33m,\u001b[0m \u001b[0my_test\u001b[0m\u001b[1;33m[\u001b[0m\u001b[1;33m:\u001b[0m\u001b[1;36m500\u001b[0m\u001b[1;33m]\u001b[0m\u001b[1;33m\u001b[0m\u001b[1;33m\u001b[0m\u001b[0m\n\u001b[0;32m      7\u001b[0m \u001b[1;31m#Loading the adversarial example.\u001b[0m\u001b[1;33m\u001b[0m\u001b[1;33m\u001b[0m\u001b[1;33m\u001b[0m\u001b[0m\n\u001b[1;32m----> 8\u001b[1;33m \u001b[0mx_test_adv_cw2\u001b[0m \u001b[1;33m=\u001b[0m \u001b[0mnp\u001b[0m\u001b[1;33m.\u001b[0m\u001b[0mload\u001b[0m\u001b[1;33m(\u001b[0m\u001b[1;34m\"./adv_data/x_adv/x_test_adv_cw2.npy\"\u001b[0m\u001b[1;33m)\u001b[0m\u001b[1;33m\u001b[0m\u001b[1;33m\u001b[0m\u001b[0m\n\u001b[0m\u001b[0;32m      9\u001b[0m \u001b[0mx_test_adv_fgsm\u001b[0m \u001b[1;33m=\u001b[0m \u001b[0mnp\u001b[0m\u001b[1;33m.\u001b[0m\u001b[0mload\u001b[0m\u001b[1;33m(\u001b[0m\u001b[1;34m\"./adv_data/x_adv/x_test_adv_fgsm.npy\"\u001b[0m\u001b[1;33m)\u001b[0m\u001b[1;33m\u001b[0m\u001b[1;33m\u001b[0m\u001b[0m\n\u001b[0;32m     10\u001b[0m \u001b[0mx_test_adv_jsma\u001b[0m \u001b[1;33m=\u001b[0m \u001b[0mnp\u001b[0m\u001b[1;33m.\u001b[0m\u001b[0mload\u001b[0m\u001b[1;33m(\u001b[0m\u001b[1;34m\"./adv_data/x_adv/x_test_adv_jsma.npy\"\u001b[0m\u001b[1;33m)\u001b[0m\u001b[1;33m\u001b[0m\u001b[1;33m\u001b[0m\u001b[0m\n",
      "\u001b[1;32mD:\\Anaconda\\lib\\site-packages\\numpy\\lib\\npyio.py\u001b[0m in \u001b[0;36mload\u001b[1;34m(file, mmap_mode, allow_pickle, fix_imports, encoding)\u001b[0m\n\u001b[0;32m    414\u001b[0m             \u001b[0mown_fid\u001b[0m \u001b[1;33m=\u001b[0m \u001b[1;32mFalse\u001b[0m\u001b[1;33m\u001b[0m\u001b[1;33m\u001b[0m\u001b[0m\n\u001b[0;32m    415\u001b[0m         \u001b[1;32melse\u001b[0m\u001b[1;33m:\u001b[0m\u001b[1;33m\u001b[0m\u001b[1;33m\u001b[0m\u001b[0m\n\u001b[1;32m--> 416\u001b[1;33m             \u001b[0mfid\u001b[0m \u001b[1;33m=\u001b[0m \u001b[0mstack\u001b[0m\u001b[1;33m.\u001b[0m\u001b[0menter_context\u001b[0m\u001b[1;33m(\u001b[0m\u001b[0mopen\u001b[0m\u001b[1;33m(\u001b[0m\u001b[0mos_fspath\u001b[0m\u001b[1;33m(\u001b[0m\u001b[0mfile\u001b[0m\u001b[1;33m)\u001b[0m\u001b[1;33m,\u001b[0m \u001b[1;34m\"rb\"\u001b[0m\u001b[1;33m)\u001b[0m\u001b[1;33m)\u001b[0m\u001b[1;33m\u001b[0m\u001b[1;33m\u001b[0m\u001b[0m\n\u001b[0m\u001b[0;32m    417\u001b[0m             \u001b[0mown_fid\u001b[0m \u001b[1;33m=\u001b[0m \u001b[1;32mTrue\u001b[0m\u001b[1;33m\u001b[0m\u001b[1;33m\u001b[0m\u001b[0m\n\u001b[0;32m    418\u001b[0m \u001b[1;33m\u001b[0m\u001b[0m\n",
      "\u001b[1;31mFileNotFoundError\u001b[0m: [Errno 2] No such file or directory: './adv_data/x_adv/x_test_adv_cw2.npy'"
     ]
    }
   ],
   "source": [
    "from tensorflow.keras.models import load_model\n",
    "from art.utils import load_dataset\n",
    "#Loading the MNIST data\n",
    "(x_train, y_train), (x_test, y_test), min_, max_ = load_dataset(str(\"mnist\"))\n",
    "x_train, y_train = x_train[:5000], y_train[:5000]\n",
    "x_test, y_test = x_test[:500], y_test[:500]\n",
    "#Loading the adversarial example.\n",
    "x_test_adv_cw2 = np.load(\"./adv_data/x_adv/x_test_adv_cw2.npy\")\n",
    "x_test_adv_fgsm = np.load(\"./adv_data/x_adv/x_test_adv_fgsm.npy\")\n",
    "x_test_adv_jsma = np.load(\"./adv_data/x_adv/x_test_adv_jsma.npy\")\n",
    "x_test_adv_pgd = np.load(\"./adv_data/x_adv/x_test_adv_pgd.npy\")\n",
    "#Loading the attack model.\n",
    "nat_model = load_model(\"./adv_data/test_evasion/attack_model/natural_attack_model.h5\")"
   ]
  },
  {
   "cell_type": "markdown",
   "id": "6c13613f-8d14-4bf7-8918-90fe3859dbe2",
   "metadata": {},
   "source": [
    "##### Doing the initial transformation of the adversarial examples."
   ]
  },
  {
   "cell_type": "code",
   "execution_count": null,
   "id": "3cd60d5e-79d7-4a08-abf2-ac7eba602faa",
   "metadata": {},
   "outputs": [],
   "source": [
    "ang = 60\n",
    "x_test_r20 = rotate_data(ang, x_test)\n",
    "x_test_adv_cw2_r20 = rotate_data(ang, x_test_adv_cw2)\n",
    "x_test_adv_jsma_r20 = rotate_data(ang, x_test_adv_jsma)\n",
    "x_test_adv_fgsm_r20 = rotate_data(ang, x_test_adv_fgsm)\n",
    "x_test_adv_pgd_r20 = rotate_data(ang, x_test_adv_pgd)"
   ]
  },
  {
   "cell_type": "markdown",
   "id": "ae58b339-48ce-4787-a15e-b6191959cea8",
   "metadata": {},
   "source": [
    "##### Evaluation of the initial transformation."
   ]
  },
  {
   "cell_type": "code",
   "execution_count": null,
   "id": "7ee80c7d-ad9e-4432-bf53-8473d481a4bc",
   "metadata": {},
   "outputs": [],
   "source": [
    "#Defining the evaluation function.\n",
    "def eval_on_model(classifier, x_test_adv, y_test):\n",
    "    preds = np.argmax(classifier.predict(x_test_adv), axis=1)\n",
    "    acc = np.sum(preds == np.argmax(y_test, axis=1)) / y_test.shape[0]\n",
    "    #print(\"test_pgd %.2f%%\",(acc*100))\n",
    "    return acc\n",
    "#Evaluating the initial transformation on the natural attack model.\n",
    "acc_r20 = eval_on_model(nat_model, x_test_r20, y_test)\n",
    "acc_cw2_r20 = eval_on_model(nat_model, x_test_adv_cw2_r20, y_test)\n",
    "acc_jsma_r20 = eval_on_model(nat_model, x_test_adv_jsma_r20, y_test)\n",
    "acc_fgsm_r20 = eval_on_model(nat_model, x_test_adv_fgsm_r20, y_test)\n",
    "acc_pgd_r20 = eval_on_model(nat_model, x_test_adv_pgd_r20, y_test)\n",
    "print(acc_r20)\n",
    "print(acc_cw2_r20)\n",
    "print(acc_jsma_r20)\n",
    "print(acc_fgsm_r20)\n",
    "print(acc_pgd_r20)"
   ]
  }
 ],
 "metadata": {
  "kernelspec": {
   "display_name": "Python 3",
   "language": "python",
   "name": "python3"
  },
  "language_info": {
   "codemirror_mode": {
    "name": "ipython",
    "version": 3
   },
   "file_extension": ".py",
   "mimetype": "text/x-python",
   "name": "python",
   "nbconvert_exporter": "python",
   "pygments_lexer": "ipython3",
   "version": "3.8.8"
  }
 },
 "nbformat": 4,
 "nbformat_minor": 5
}
