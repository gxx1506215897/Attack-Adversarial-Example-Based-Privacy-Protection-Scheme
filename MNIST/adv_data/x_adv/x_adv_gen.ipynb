{
 "cells": [
  {
   "cell_type": "markdown",
   "id": "d62bda70-6ecf-48dd-afea-5c58b2a649ba",
   "metadata": {},
   "source": [
    "#### The work of this file is to generate the adversarial sample of the test data."
   ]
  },
  {
   "cell_type": "markdown",
   "id": "ca457d14-78b7-4e99-84da-73982357667d",
   "metadata": {},
   "source": [
    "##### Training the defense model."
   ]
  },
  {
   "cell_type": "code",
   "execution_count": 1,
   "id": "af76afdf-5304-4324-a7b6-569dde67217b",
   "metadata": {},
   "outputs": [
    {
     "name": "stdout",
     "output_type": "stream",
     "text": [
      "Train on 5000 samples\n",
      "Epoch 1/10\n",
      "5000/5000 [==============================] - 2s 466us/sample - loss: 0.8070 - accuracy: 0.77320s - loss: 0.8551 - accura\n",
      "Epoch 2/10\n",
      "5000/5000 [==============================] - 2s 440us/sample - loss: 0.2757 - accuracy: 0.9222\n",
      "Epoch 3/10\n",
      "5000/5000 [==============================] - 2s 435us/sample - loss: 0.1824 - accuracy: 0.9480\n",
      "Epoch 4/10\n",
      "5000/5000 [==============================] - 2s 449us/sample - loss: 0.1398 - accuracy: 0.9588 - loss: 0 - ETA: 1s - loss: 0.1404 - accuracy\n",
      "Epoch 5/10\n",
      "5000/5000 [==============================] - 2s 427us/sample - loss: 0.1083 - accuracy: 0.9686\n",
      "Epoch 6/10\n",
      "5000/5000 [==============================] - 2s 420us/sample - loss: 0.0857 - accuracy: 0.9762\n",
      "Epoch 7/10\n",
      "5000/5000 [==============================] - 2s 435us/sample - loss: 0.0766 - accuracy: 0.9792\n",
      "Epoch 8/10\n",
      "5000/5000 [==============================] - 2s 435us/sample - loss: 0.0587 - accuracy: 0.9848 - loss:\n",
      "Epoch 9/10\n",
      "5000/5000 [==============================] - 2s 430us/sample - loss: 0.0476 - accuracy: 0.9868\n",
      "Epoch 10/10\n",
      "5000/5000 [==============================] - 2s 424us/sample - loss: 0.0416 - accuracy: 0.9890\n"
     ]
    }
   ],
   "source": [
    "from __future__ import absolute_import, division, print_function, unicode_literals\n",
    "import logging\n",
    "from tensorflow.keras.models import Sequential\n",
    "from tensorflow.keras.layers import Dense, Flatten, Conv2D, MaxPooling2D, Activation, Dropout\n",
    "import numpy as np\n",
    "from art.attacks.evasion import DeepFool\n",
    "from art.estimators.classification import KerasClassifier\n",
    "from art.utils import load_dataset\n",
    "import tensorflow as tf\n",
    "tf.compat.v1.disable_eager_execution()\n",
    "from art.attacks.evasion import FastGradientMethod, BasicIterativeMethod, CarliniL2Method, CarliniLInfMethod, ProjectedGradientDescent, DeepFool, ThresholdAttack, PixelAttack, SpatialTransformation, SquareAttack, ZooAttack, BoundaryAttack, HopSkipJump\n",
    "\n",
    "(x_train, y_train), (x_test, y_test), min_, max_ = load_dataset(str(\"mnist\"))\n",
    "x_train, y_train = x_train[:5000], y_train[:5000]\n",
    "x_test, y_test = x_test[:500], y_test[:500]\n",
    "im_shape = x_train[0].shape\n",
    "\n",
    "\n",
    "# The structure of defense model.\n",
    "model = Sequential()\n",
    "model.add(Conv2D(32, (5, 5), input_shape= x_train.shape[1:], activation='relu'))\n",
    "model.add(MaxPooling2D(pool_size=(2, 2)))\n",
    "model.add(Dropout(0.2))\n",
    "model.add(Flatten())\n",
    "model.add(Dense(128, activation='relu'))\n",
    "model.add(Dense(10, activation='softmax'))\n",
    "model.compile(loss='categorical_crossentropy', optimizer='adam', metrics=['accuracy'])\n",
    "\n",
    "classifier = KerasClassifier(model=model, clip_values=(min_, max_))\n",
    "classifier.fit(x_train, y_train, nb_epochs=10, batch_size=128)"
   ]
  },
  {
   "cell_type": "markdown",
   "id": "968c51dd-d359-4f4f-a94e-856cc792080d",
   "metadata": {},
   "source": [
    "##### Building the generator of the adversarial example."
   ]
  },
  {
   "cell_type": "code",
   "execution_count": 2,
   "id": "9e2f51b5-0377-4549-a809-6134c67a5194",
   "metadata": {},
   "outputs": [],
   "source": [
    "from art.attacks.evasion import CarliniL2Method, SaliencyMapMethod, FastGradientMethod, ProjectedGradientDescent\n",
    "crafter_cl = CarliniL2Method(classifier=classifier, max_iter=200) #CW2\n",
    "crafter_jsma = SaliencyMapMethod(classifier=classifier) #JSMA\n",
    "crafter_fgsm = FastGradientMethod(classifier) # eps = 0.3, bath_size = 32 #FGSM\n",
    "crafter_pgd = ProjectedGradientDescent(estimator=classifier, norm=np.inf, eps=0.3, eps_step=0.01, batch_size=32) #PGD"
   ]
  },
  {
   "cell_type": "markdown",
   "id": "0439e1ef-99e7-4531-ad55-633e971a044a",
   "metadata": {},
   "source": [
    "##### Generating the adversarial example and measuring the time delay of the generation of the adversarial example."
   ]
  },
  {
   "cell_type": "code",
   "execution_count": null,
   "id": "f692d3c1-e7f6-449c-9575-ba7edf14cf2c",
   "metadata": {},
   "outputs": [
    {
     "data": {
      "application/vnd.jupyter.widget-view+json": {
       "model_id": "b594bfd0060f487786470ec09280d3f9",
       "version_major": 2,
       "version_minor": 0
      },
      "text/plain": [
       "C&W L_2:   0%|          | 0/500 [00:00<?, ?it/s]"
      ]
     },
     "metadata": {},
     "output_type": "display_data"
    }
   ],
   "source": [
    "import time\n",
    "# CW2\n",
    "time_start_cw2 = time.time()\n",
    "x_test_adv_cw2 = crafter_cl.generate(x_test)\n",
    "time_end_cw2 = time.time()\n",
    "average_time_cw2 = (time_end_cw2 - time_start_cw2)/500\n",
    "#JSMA\n",
    "A = np.zeros([500, 10])\n",
    "def one_hot(A, k):\n",
    "    A[:,k] = 1\n",
    "    return A\n",
    "for i in range(0,500,50):\n",
    "    one_hot(A[i:i+50,:],int(i/50))\n",
    "time_start_jsma = time.time()\n",
    "x_test_adv_jsma = crafter_jsma.generate(x_test, A)\n",
    "time_end_jsma = time.time()\n",
    "average_time_jsma = (time_end_jsma - time_start_jsma)/500\n",
    "#FGSM\n",
    "time_start_fgsm = time.time()\n",
    "x_test_adv_fgsm = crafter_fgsm.generate(x_test)\n",
    "time_end_fgsm = time.time()\n",
    "average_time_fgsm = (time_end_fgsm - time_start_fgsm)/500\n",
    "#PGD\n",
    "time_start_pgd = time.time()\n",
    "x_test_adv_pgd = crafter_pgd.generate(x_test)\n",
    "time_end_pgd = time.time()\n",
    "average_time_pgd = (time_end_pgd - time_start_pgd)/500\n",
    "#Save the adversarial example of the test data.\n",
    "np.save(\"./x_test_adv_cw2.npy\", x_test_adv_cw2)\n",
    "np.save(\"./x_test_adv_jsma.npy\", x_test_adv_jsma)\n",
    "np.save(\"./x_test_adv_fgsm.npy\", x_test_adv_fgsm)\n",
    "np.save(\"./x_test_adv_pgd.npy\", x_test_adv_pgd)\n",
    "#Print the time delay generating the adversarial examples for different methods.\n",
    "print(average_time_cw2)\n",
    "print(average_time_jsma)\n",
    "print(average_time_fgsm)\n",
    "print(average_time_pgd)"
   ]
  },
  {
   "cell_type": "code",
   "execution_count": null,
   "id": "8a4a9ddb-4704-4807-bb00-a536e114bb17",
   "metadata": {},
   "outputs": [],
   "source": []
  }
 ],
 "metadata": {
  "kernelspec": {
   "display_name": "Python 3",
   "language": "python",
   "name": "python3"
  },
  "language_info": {
   "codemirror_mode": {
    "name": "ipython",
    "version": 3
   },
   "file_extension": ".py",
   "mimetype": "text/x-python",
   "name": "python",
   "nbconvert_exporter": "python",
   "pygments_lexer": "ipython3",
   "version": "3.8.8"
  }
 },
 "nbformat": 4,
 "nbformat_minor": 5
}
