{
 "cells": [
  {
   "cell_type": "markdown",
   "id": "d62bda70-6ecf-48dd-afea-5c58b2a649ba",
   "metadata": {},
   "source": [
    "#### The work of this file is to generate the adversarial sample of the test data."
   ]
  },
  {
   "cell_type": "markdown",
   "id": "ca457d14-78b7-4e99-84da-73982357667d",
   "metadata": {},
   "source": [
    "##### Training the defense model."
   ]
  },
  {
   "cell_type": "code",
   "execution_count": null,
   "id": "af76afdf-5304-4324-a7b6-569dde67217b",
   "metadata": {},
   "outputs": [],
   "source": [
    "from __future__ import absolute_import, division, print_function, unicode_literals\n",
    "import logging\n",
    "from tensorflow.keras.models import Sequential\n",
    "from tensorflow.keras.layers import Dense, Flatten, Conv2D, MaxPooling2D, Activation, Dropout\n",
    "import numpy as np\n",
    "from art.attacks.evasion import DeepFool\n",
    "from art.estimators.classification import KerasClassifier\n",
    "import tensorflow as tf\n",
    "tf.compat.v1.disable_eager_execution()\n",
    "from art.attacks.evasion import FastGradientMethod, BasicIterativeMethod, CarliniL2Method, CarliniLInfMethod, ProjectedGradientDescent, DeepFool, ThresholdAttack, PixelAttack, SpatialTransformation, SquareAttack, ZooAttack, BoundaryAttack, HopSkipJump\n",
    "from keras model import *\n",
    "from input_data import *\n",
    "\n",
    "dc = Data_Class()\n",
    "dc.input_train_app()\n",
    "dc.input_train_label()\n",
    "dc.input_test_app()\n",
    "dc.input_test_label()\n",
    "\n",
    "learning_rate=0.05\n",
    "\n",
    "input_shape=dc.train_app.shape[1:]\n",
    "x_train=dc.train_app\n",
    "y_train=dc.train_label\n",
    "x_test=dc.test_app\n",
    "y_test=dc.test_label\n",
    "\n",
    "#The structure of the attack model.\n",
    "model = cnn_model_defense(input_shape=input_shape)\n",
    "model.compile(loss=keras.losses.categorical_crossentropy,optimizer=keras.optimizers.SGD(lr=learning_rate),metrics=['accuracy'])\n",
    "\n",
    "\n",
    "classifier = KerasClassifier(model=model, clip_values=(min_, max_))\n",
    "classifier.fit(x_train, y_train, nb_epochs=50, batch_size=100)\n",
    "classifier.save(\"../MNIST/adv/data/models/natural_defense_model.h5\")"
   ]
  },
  {
   "cell_type": "markdown",
   "id": "968c51dd-d359-4f4f-a94e-856cc792080d",
   "metadata": {},
   "source": [
    "##### Building the generator of the adversarial example."
   ]
  },
  {
   "cell_type": "code",
   "execution_count": null,
   "id": "9e2f51b5-0377-4549-a809-6134c67a5194",
   "metadata": {},
   "outputs": [],
   "source": [
    "from art.attacks.evasion import CarliniL2Method, SaliencyMapMethod, FastGradientMethod, ProjectedGradientDescent\n",
    "crafter_cl = CarliniL2Method(classifier=classifier, max_iter=200) #CW2\n",
    "crafter_jsma = SaliencyMapMethod(classifier=classifier) #JSMA\n",
    "crafter_fgsm = FastGradientMethod(classifier) # eps = 0.3, bath_size = 32 #FGSM\n",
    "crafter_pgd = ProjectedGradientDescent(estimator=classifier, norm=np.inf, eps=0.3, eps_step=0.01, batch_size=32) #PGD"
   ]
  },
  {
   "cell_type": "markdown",
   "id": "0439e1ef-99e7-4531-ad55-633e971a044a",
   "metadata": {},
   "source": [
    "##### Generating the adversarial example and measuring the time delay of the generation of the adversarial example."
   ]
  },
  {
   "cell_type": "code",
   "execution_count": null,
   "id": "f692d3c1-e7f6-449c-9575-ba7edf14cf2c",
   "metadata": {},
   "outputs": [],
   "source": [
    "import time\n",
    "# CW2\n",
    "time_start_cw2 = time.time()\n",
    "x_test_adv_cw2 = crafter_cl.generate(x_test)\n",
    "time_end_cw2 = time.time()\n",
    "average_time_cw2 = (time_end - time_start)/500\n",
    "#JSMA\n",
    "time_start_jsma = time.time()\n",
    "x_test_adv_jsma = crafter_jsma.generate(x_test, A)\n",
    "time_end_jsma = time.time()\n",
    "average_time_jsma = (time_end_jsma - time_start_jsma)/500\n",
    "#FGSM\n",
    "time_start_fgsm = time.time()\n",
    "x_test_adv_fgsm = crafter_fgsm.generate(x_test)\n",
    "time_end_fgsm = time.time()\n",
    "average_time_fgsm = (time_end_fgsm - time_start_fgsm)/500\n",
    "#PGD\n",
    "time_start_pgd = time.time()\n",
    "x_test_adv_pgd = crafter_pgd.generate(x_test)\n",
    "time_end_pgd = time.time()\n",
    "average_time_pgd = (time_end_pgd - time_start_pgd)/500\n",
    "#Save the adversarial example of the test data.\n",
    "np.save(\"./x_test_adv_cw2.npy\", x_test_adv_cw2)\n",
    "np.save(\"./x_test_adv_jsma.npy\", x_test_adv_jsma)\n",
    "np.save(\"./x_test_adv_fgsm.npy\", x_test_adv_fgsm)\n",
    "np.save(\"./x_test_adv_pgd.npy\", x_test_adv_pgd)\n",
    "#Print the time delay generating the adversarial examples for different methods.\n",
    "print(average_time_cw2)\n",
    "print(average_time_jsma)\n",
    "print(average_time_fgsm)\n",
    "print(average_time_pgd)"
   ]
  }
 ],
 "metadata": {
  "kernelspec": {
   "display_name": "Python 3",
   "language": "python",
   "name": "python3"
  },
  "language_info": {
   "codemirror_mode": {
    "name": "ipython",
    "version": 3
   },
   "file_extension": ".py",
   "mimetype": "text/x-python",
   "name": "python",
   "nbconvert_exporter": "python",
   "pygments_lexer": "ipython3",
   "version": "3.8.8"
  }
 },
 "nbformat": 4,
 "nbformat_minor": 5
}
